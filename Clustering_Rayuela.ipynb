{
  "nbformat": 4,
  "nbformat_minor": 0,
  "metadata": {
    "colab": {
      "name": "Clustering_Rayuela.ipynb",
      "provenance": [],
      "authorship_tag": "ABX9TyP2E26Pwe3vVU45DagoD0JU",
      "include_colab_link": true
    },
    "kernelspec": {
      "name": "python3",
      "display_name": "Python 3"
    },
    "language_info": {
      "name": "python"
    }
  },
  "cells": [
    {
      "cell_type": "markdown",
      "metadata": {
        "id": "view-in-github",
        "colab_type": "text"
      },
      "source": [
        "<a href=\"https://colab.research.google.com/github/lutzeric/textmining/blob/main/Clustering_Rayuela.ipynb\" target=\"_parent\"><img src=\"https://colab.research.google.com/assets/colab-badge.svg\" alt=\"Open In Colab\"/></a>"
      ]
    },
    {
      "cell_type": "markdown",
      "metadata": {
        "id": "7mP3m44b13Hc"
      },
      "source": [
        "## Ejercicio de clustering basado fuertemente en el de Dani Bosch (2017), aplicado a la novela Rayuela, de Julio Cortázar."
      ]
    },
    {
      "cell_type": "markdown",
      "metadata": {
        "id": "VQQHWA4i1d1_"
      },
      "source": [
        "# Drive y bibliotecas\n",
        "Acá cargo mi drive, donde tengo los archivos, y las bibliotecas que vamos a usar."
      ]
    },
    {
      "cell_type": "code",
      "metadata": {
        "colab": {
          "base_uri": "https://localhost:8080/"
        },
        "id": "DwlNp6hQCzbE",
        "outputId": "fac1f156-4c88-4878-a52c-e228766b1fee"
      },
      "source": [
        "from google.colab import drive\n",
        "drive.mount('/content/gdrive')"
      ],
      "execution_count": 1,
      "outputs": [
        {
          "output_type": "stream",
          "name": "stdout",
          "text": [
            "Mounted at /content/gdrive\n"
          ]
        }
      ]
    },
    {
      "cell_type": "code",
      "metadata": {
        "id": "3ulORZaoCRO9"
      },
      "source": [
        "%matplotlib inline\n",
        "import matplotlib.pyplot as plt\n",
        "import pandas as pd\n",
        "import numpy as np\n",
        "import spacy\n",
        "import pickle\n",
        "import nltk\n",
        "import os\n",
        "import sklearn.manifold\n",
        "from collections import Counter\n",
        "from nltk.cluster import kmeans, cosine_distance\n",
        "from sklearn.cluster import KMeans   "
      ],
      "execution_count": 2,
      "outputs": []
    },
    {
      "cell_type": "markdown",
      "metadata": {
        "id": "T4OBbOJE1q-K"
      },
      "source": [
        "Uso el modelo de Spacy en español más pequeño, y le pido que me permita procesar más de 1 millón de palabras, que es lo que viene por defecto, para que entre la novela entera "
      ]
    },
    {
      "cell_type": "code",
      "metadata": {
        "id": "aO7jSQcNCTgy",
        "colab": {
          "base_uri": "https://localhost:8080/"
        },
        "outputId": "882bf923-2c2a-4337-b526-45a27418e032"
      },
      "source": [
        "!python -m spacy download es_core_news_sm\n",
        "import spacy\n",
        "import es_core_news_sm\n",
        "\n",
        "nlp = es_core_news_sm.load()\n",
        "nlp.max_length = 1005000"
      ],
      "execution_count": 3,
      "outputs": [
        {
          "output_type": "stream",
          "name": "stdout",
          "text": [
            "Collecting es_core_news_sm==2.2.5\n",
            "  Downloading https://github.com/explosion/spacy-models/releases/download/es_core_news_sm-2.2.5/es_core_news_sm-2.2.5.tar.gz (16.2 MB)\n",
            "\u001b[K     |████████████████████████████████| 16.2 MB 5.3 MB/s \n",
            "\u001b[?25hRequirement already satisfied: spacy>=2.2.2 in /usr/local/lib/python3.7/dist-packages (from es_core_news_sm==2.2.5) (2.2.4)\n",
            "Requirement already satisfied: wasabi<1.1.0,>=0.4.0 in /usr/local/lib/python3.7/dist-packages (from spacy>=2.2.2->es_core_news_sm==2.2.5) (0.8.2)\n",
            "Requirement already satisfied: thinc==7.4.0 in /usr/local/lib/python3.7/dist-packages (from spacy>=2.2.2->es_core_news_sm==2.2.5) (7.4.0)\n",
            "Requirement already satisfied: srsly<1.1.0,>=1.0.2 in /usr/local/lib/python3.7/dist-packages (from spacy>=2.2.2->es_core_news_sm==2.2.5) (1.0.5)\n",
            "Requirement already satisfied: requests<3.0.0,>=2.13.0 in /usr/local/lib/python3.7/dist-packages (from spacy>=2.2.2->es_core_news_sm==2.2.5) (2.23.0)\n",
            "Requirement already satisfied: preshed<3.1.0,>=3.0.2 in /usr/local/lib/python3.7/dist-packages (from spacy>=2.2.2->es_core_news_sm==2.2.5) (3.0.5)\n",
            "Requirement already satisfied: tqdm<5.0.0,>=4.38.0 in /usr/local/lib/python3.7/dist-packages (from spacy>=2.2.2->es_core_news_sm==2.2.5) (4.62.2)\n",
            "Requirement already satisfied: setuptools in /usr/local/lib/python3.7/dist-packages (from spacy>=2.2.2->es_core_news_sm==2.2.5) (57.4.0)\n",
            "Requirement already satisfied: cymem<2.1.0,>=2.0.2 in /usr/local/lib/python3.7/dist-packages (from spacy>=2.2.2->es_core_news_sm==2.2.5) (2.0.5)\n",
            "Requirement already satisfied: numpy>=1.15.0 in /usr/local/lib/python3.7/dist-packages (from spacy>=2.2.2->es_core_news_sm==2.2.5) (1.19.5)\n",
            "Requirement already satisfied: blis<0.5.0,>=0.4.0 in /usr/local/lib/python3.7/dist-packages (from spacy>=2.2.2->es_core_news_sm==2.2.5) (0.4.1)\n",
            "Requirement already satisfied: catalogue<1.1.0,>=0.0.7 in /usr/local/lib/python3.7/dist-packages (from spacy>=2.2.2->es_core_news_sm==2.2.5) (1.0.0)\n",
            "Requirement already satisfied: plac<1.2.0,>=0.9.6 in /usr/local/lib/python3.7/dist-packages (from spacy>=2.2.2->es_core_news_sm==2.2.5) (1.1.3)\n",
            "Requirement already satisfied: murmurhash<1.1.0,>=0.28.0 in /usr/local/lib/python3.7/dist-packages (from spacy>=2.2.2->es_core_news_sm==2.2.5) (1.0.5)\n",
            "Requirement already satisfied: importlib-metadata>=0.20 in /usr/local/lib/python3.7/dist-packages (from catalogue<1.1.0,>=0.0.7->spacy>=2.2.2->es_core_news_sm==2.2.5) (4.8.1)\n",
            "Requirement already satisfied: typing-extensions>=3.6.4 in /usr/local/lib/python3.7/dist-packages (from importlib-metadata>=0.20->catalogue<1.1.0,>=0.0.7->spacy>=2.2.2->es_core_news_sm==2.2.5) (3.7.4.3)\n",
            "Requirement already satisfied: zipp>=0.5 in /usr/local/lib/python3.7/dist-packages (from importlib-metadata>=0.20->catalogue<1.1.0,>=0.0.7->spacy>=2.2.2->es_core_news_sm==2.2.5) (3.5.0)\n",
            "Requirement already satisfied: urllib3!=1.25.0,!=1.25.1,<1.26,>=1.21.1 in /usr/local/lib/python3.7/dist-packages (from requests<3.0.0,>=2.13.0->spacy>=2.2.2->es_core_news_sm==2.2.5) (1.24.3)\n",
            "Requirement already satisfied: idna<3,>=2.5 in /usr/local/lib/python3.7/dist-packages (from requests<3.0.0,>=2.13.0->spacy>=2.2.2->es_core_news_sm==2.2.5) (2.10)\n",
            "Requirement already satisfied: certifi>=2017.4.17 in /usr/local/lib/python3.7/dist-packages (from requests<3.0.0,>=2.13.0->spacy>=2.2.2->es_core_news_sm==2.2.5) (2021.5.30)\n",
            "Requirement already satisfied: chardet<4,>=3.0.2 in /usr/local/lib/python3.7/dist-packages (from requests<3.0.0,>=2.13.0->spacy>=2.2.2->es_core_news_sm==2.2.5) (3.0.4)\n",
            "Building wheels for collected packages: es-core-news-sm\n",
            "  Building wheel for es-core-news-sm (setup.py) ... \u001b[?25l\u001b[?25hdone\n",
            "  Created wheel for es-core-news-sm: filename=es_core_news_sm-2.2.5-py3-none-any.whl size=16172933 sha256=6c886d5af831739f3021659152ee09bc133a55b91c16cf4e5f920a75ad37b968\n",
            "  Stored in directory: /tmp/pip-ephem-wheel-cache-btbhantp/wheels/21/8d/a9/6c1a2809c55dd22cd9644ae503a52ba6206b04aa57ba83a3d8\n",
            "Successfully built es-core-news-sm\n",
            "Installing collected packages: es-core-news-sm\n",
            "Successfully installed es-core-news-sm-2.2.5\n",
            "\u001b[38;5;2m✔ Download and installation successful\u001b[0m\n",
            "You can now load the model via spacy.load('es_core_news_sm')\n"
          ]
        }
      ]
    },
    {
      "cell_type": "markdown",
      "metadata": {
        "id": "h9RPxwUU2FnS"
      },
      "source": [
        "# Procesamiento"
      ]
    },
    {
      "cell_type": "markdown",
      "metadata": {
        "id": "bvW4dTMb2JKK"
      },
      "source": [
        "Primero, cargo el texto de Rayuela que está en mi drive de Google y lo proceso con la función nlp de Spacy."
      ]
    },
    {
      "cell_type": "code",
      "metadata": {
        "id": "gcxLEHc-CfM6"
      },
      "source": [
        "path = '/content/gdrive/MyDrive/Doctorado/rayuela.txt'\n",
        "with open(path, \"r\") as file: # abrimos el .txt\n",
        "    texto = file.read().replace(\"\\n\", \" \")\n",
        "    # dataset = texto.lower()\n",
        "doc = nlp(texto)"
      ],
      "execution_count": 4,
      "outputs": []
    },
    {
      "cell_type": "markdown",
      "metadata": {
        "id": "1P3PHuTQ2RCz"
      },
      "source": [
        "Le pido que solo tenga en cuenta las oraciones de más de 5 palabras (este número es completamente arbitrario). Luego armo una vacía donde voy a poner las palabras lematizadas, sin contar números ni signos de puntuación."
      ]
    },
    {
      "cell_type": "code",
      "metadata": {
        "id": "atDZGAUNC_Az"
      },
      "source": [
        "sents = [sent for sent in doc.sents if len(sent) > 5]\n",
        "words = []\n",
        "words_lemma = []\n",
        "for sent in sents:\n",
        "    for word in sent:\n",
        "        if word.is_alpha:\n",
        "            words.append(word)\n",
        "            words_lemma.append(word.lemma_)"
      ],
      "execution_count": 5,
      "outputs": []
    },
    {
      "cell_type": "markdown",
      "metadata": {
        "id": "ZbH7EFaT2tZE"
      },
      "source": [
        "Usamos un diccionario de lemas, ya que el lematizador que utiliza Spacy en español sólo transforma las palabras en minúsculas. Aún así hay muchas palabras que se le escapan."
      ]
    },
    {
      "cell_type": "code",
      "metadata": {
        "id": "XiaRrhIQDE7x"
      },
      "source": [
        "def parse_tags(word):\n",
        "    tags = word.tag_[len(word.pos_) + 2:]\n",
        "    tags = tags.split(\"|\")\n",
        "    return tags"
      ],
      "execution_count": 6,
      "outputs": []
    },
    {
      "cell_type": "code",
      "metadata": {
        "id": "YfPtrLP9DOX6"
      },
      "source": [
        "lemma_file = open('/content/gdrive/MyDrive/Doctorado/lemmatization-es.txt', \"r\")\n",
        "lemma_raw = lemma_file.read()\n",
        "lemma = lemma_raw.split(\"\\n\")\n",
        "\n",
        "lemma_dict = {}\n",
        "for pair in lemma:\n",
        "    w = pair.split(\"\\t\")\n",
        "    if len(w) == 2:\n",
        "        lemma_dict[w[1]] = w[0]"
      ],
      "execution_count": 7,
      "outputs": []
    },
    {
      "cell_type": "code",
      "metadata": {
        "id": "Ou3ME1AiDtwy"
      },
      "source": [
        "def lemmatize(word):\n",
        "    if word in lemma_dict:\n",
        "        word = lemma_dict[word]\n",
        "    return word"
      ],
      "execution_count": 8,
      "outputs": []
    },
    {
      "cell_type": "markdown",
      "metadata": {
        "id": "EFF4-U8b4Una"
      },
      "source": [
        "Esta parte no la entiendo :-("
      ]
    },
    {
      "cell_type": "code",
      "metadata": {
        "id": "6wuSNoJ6Dwh6"
      },
      "source": [
        "# Crear diccionario\n",
        "dicc = {}\n",
        "list_dicc = {}\n",
        "word_id = 0\n",
        "threshold_w = 100\n",
        "threshold_c = 50\n",
        "\n",
        "for word in words:\n",
        "    w = lemmatize(word.lemma_)\n",
        "    if not word.is_alpha or str.isdigit(w) or counts[w] < threshold_w:\n",
        "        continue\n",
        "    if not w in dicc:\n",
        "        features = {}\n",
        "    else:\n",
        "        features = dicc[w]\n",
        "\n",
        "    pos = \"POS__\" + word.pos_\n",
        "    if not pos in features:\n",
        "        features[pos] = 0\n",
        "    features[pos] += 1\n",
        "\n",
        "    dep = \"DEP__\" + word.dep_\n",
        "    if not dep in features:\n",
        "        features[dep] = 0\n",
        "    features[dep] += 1\n",
        "\n",
        "    tags = parse_tags(word)\n",
        "    for tag in tags:\n",
        "        if not tag in features:\n",
        "            features[tag] = 0\n",
        "        features[tag] += 1\n",
        "\n",
        "    if not word.i == 0:\n",
        "        context_izq = doc[word.i - 1]\n",
        "        c_izq = lemmatize(context_izq.lemma_)\n",
        "        if context_izq.is_alpha and counts[c_izq] > threshold_c:\n",
        "            if str.isdigit(c_izq):\n",
        "                c_izq = \"NUM__\"\n",
        "            if not c_izq in features:\n",
        "                features[c_izq] = 0\n",
        "            features[c_izq] += 1\n",
        "\n",
        "    if not word.i < len(doc):\n",
        "        context_der = doc[word.i + 1]\n",
        "        c_der = lemmatize(context_der.lemma_)\n",
        "        if context_der.is_alpha and counts[c_der] > threshold_c:\n",
        "            if str.isdigit(c_der):\n",
        "                c_der = \"NUM__\"\n",
        "            if not c_der in features:\n",
        "                features[c_der] = 0\n",
        "            features[c_der] += 1\n",
        "\n",
        "    tripla = \"TRIPLA__\" + w + \"__\" + word.lemma_ + \"__\" + word.dep_ + \"__\" + lemmatize(word.head.lemma_)\n",
        "    if not tripla in features:\n",
        "        features[tripla] = 0\n",
        "    features[tripla] += 1\n",
        "\n",
        "    word_id += 1\n",
        "\n",
        "    dicc[w] = features"
      ],
      "execution_count": 9,
      "outputs": []
    },
    {
      "cell_type": "markdown",
      "metadata": {
        "id": "s9kKSw544aHd"
      },
      "source": [
        "El diccionario se guarda en formato pickle en el Drive y luego se vuelve a cargar. Luego se le hace una limpieza que tampoco entiendo para qué está."
      ]
    },
    {
      "cell_type": "code",
      "metadata": {
        "id": "otdmCl8pEHJS"
      },
      "source": [
        "filename = '/content/gdrive/MyDrive/Doctorado/rayuela_dicc.pickle'\n",
        "fileObj = open(filename, 'wb')\n",
        "pickle.dump(dicc, fileObj)\n",
        "fileObj.close()"
      ],
      "execution_count": 10,
      "outputs": []
    },
    {
      "cell_type": "code",
      "metadata": {
        "id": "0j-2uloMY878"
      },
      "source": [
        "filename = \"/content/gdrive/MyDrive/Doctorado/rayuela_dicc.pickle\"\n",
        "with open(filename, 'rb') as f:\n",
        "    dicc = pickle.load(f)"
      ],
      "execution_count": 11,
      "outputs": []
    },
    {
      "cell_type": "code",
      "metadata": {
        "id": "NlcTMMN1ZOW9"
      },
      "source": [
        "features = []\n",
        "key_words = {}\n",
        "wid = 0\n",
        "for d in dicc:\n",
        "    if len(d) > 0:\n",
        "        key_words[d] = wid\n",
        "        wid += 1\n",
        "        features.append(dicc[d])"
      ],
      "execution_count": 12,
      "outputs": []
    },
    {
      "cell_type": "code",
      "metadata": {
        "id": "CID01jlCZQP8"
      },
      "source": [
        "filename = '/content/gdrive/MyDrive/Doctorado/rayuela_cleandicc.pickle'\n",
        "fileObj = open(filename, 'wb')\n",
        "pickle.dump(features, fileObj)\n",
        "fileObj.close()\n",
        "\n",
        "filename = \"/content/gdrive/MyDrive/Doctorado/rayuela_keys.pickle\"\n",
        "fileObj = open(filename, 'wb')\n",
        "pickle.dump(key_words, fileObj)\n",
        "fileObj.close()"
      ],
      "execution_count": 13,
      "outputs": []
    },
    {
      "cell_type": "code",
      "metadata": {
        "id": "7uIEOnCcZdir"
      },
      "source": [
        "filename = '/content/gdrive/MyDrive/Doctorado/rayuela_cleandicc.pickle'\n",
        "with open(filename, 'rb') as f:\n",
        "    features = pickle.load(f)\n",
        "    \n",
        "filename = \"/content/gdrive/MyDrive/Doctorado/rayuela_keys.pickle\"\n",
        "with open(filename, 'rb') as f:\n",
        "    key_words = pickle.load(f)"
      ],
      "execution_count": 14,
      "outputs": []
    },
    {
      "cell_type": "markdown",
      "metadata": {
        "id": "-I2WZ3gA4rUL"
      },
      "source": [
        "Entiendo en esta parte que se hace un vector a partir del diccionario y se genera una matriz que se guarda y luego se carga."
      ]
    },
    {
      "cell_type": "code",
      "metadata": {
        "id": "7vPZYAI_cCkg"
      },
      "source": [
        "from sklearn.feature_extraction import DictVectorizer\n",
        "v = DictVectorizer(sparse=False)\n",
        "matrix = v.fit_transform(features)"
      ],
      "execution_count": 15,
      "outputs": []
    },
    {
      "cell_type": "code",
      "metadata": {
        "id": "60R35FVzcFDW"
      },
      "source": [
        "matrix_normed = matrix / matrix.max(axis=0)"
      ],
      "execution_count": 16,
      "outputs": []
    },
    {
      "cell_type": "code",
      "metadata": {
        "id": "Ay2-t5lccHue"
      },
      "source": [
        "variances = np.square(matrix_normed).mean(axis=0) - np.square(matrix_normed.mean(axis=0))"
      ],
      "execution_count": 17,
      "outputs": []
    },
    {
      "cell_type": "code",
      "metadata": {
        "id": "J2JNQkBRcJ41"
      },
      "source": [
        "threshold_v = 0.001\n",
        "red_matrix = np.delete(matrix_normed, np.where(variances < threshold_v), axis=1)"
      ],
      "execution_count": 18,
      "outputs": []
    },
    {
      "cell_type": "code",
      "metadata": {
        "id": "sYlujy4icLXE"
      },
      "source": [
        "filename = \"/content/gdrive/MyDrive/Doctorado/rayuela_matrix.pickle\"\n",
        "fileObj = open(filename, 'wb')\n",
        "pickle.dump(red_matrix, fileObj)\n",
        "fileObj.close()"
      ],
      "execution_count": 19,
      "outputs": []
    },
    {
      "cell_type": "code",
      "metadata": {
        "id": "WkmbN2LMcQgV"
      },
      "source": [
        "filename = \"/content/gdrive/MyDrive/Doctorado/rayuela_matrix.pickle\"\n",
        "with open(filename, 'rb') as f:\n",
        "    red_matrix = pickle.load(f)"
      ],
      "execution_count": 20,
      "outputs": []
    },
    {
      "cell_type": "code",
      "metadata": {
        "id": "uc5OgC7QcVn_"
      },
      "source": [
        "tsne = sklearn.manifold.TSNE(n_components=2, random_state=0)\n",
        "matrix_dicc2d = tsne.fit_transform(red_matrix)"
      ],
      "execution_count": 21,
      "outputs": []
    },
    {
      "cell_type": "code",
      "metadata": {
        "id": "_mEDkaldcXXx"
      },
      "source": [
        "filename = \"/content/gdrive/MyDrive/Doctorado/rayuela_matrix2d.pickle\"\n",
        "fileObj = open(filename, 'wb')\n",
        "pickle.dump(matrix_dicc2d, fileObj)\n",
        "fileObj.close()"
      ],
      "execution_count": 22,
      "outputs": []
    },
    {
      "cell_type": "code",
      "metadata": {
        "id": "pgzFNBDScbw_"
      },
      "source": [
        "filename = \"/content/gdrive/MyDrive/Doctorado/rayuela_matrix2d.pickle\"\n",
        "with open(filename, 'rb') as f:\n",
        "    matrix_dicc2d = pickle.load(f)"
      ],
      "execution_count": 23,
      "outputs": []
    },
    {
      "cell_type": "code",
      "metadata": {
        "id": "P4KhHD3vcg8m"
      },
      "source": [
        "pointsspacy = pd.DataFrame(\n",
        "    [\n",
        "        (word, coords[0], coords[1])\n",
        "        for word, coords in [\n",
        "            (word, matrix_dicc2d[key_words[word]])\n",
        "            for word in key_words\n",
        "        ]\n",
        "    ],\n",
        "    columns=[\"word\", \"x\", \"y\"]\n",
        ")"
      ],
      "execution_count": 24,
      "outputs": []
    },
    {
      "cell_type": "markdown",
      "metadata": {
        "id": "Otq98W9g5NTS"
      },
      "source": [
        "Se arma una función para graficar una parte del espacio y luego se la utiliza."
      ]
    },
    {
      "cell_type": "code",
      "metadata": {
        "id": "D0lPcydccpI1"
      },
      "source": [
        "def plot_region(x_bounds, y_bounds):\n",
        "    slice = pointsspacy[\n",
        "        (x_bounds[0] <= pointsspacy.x) &\n",
        "        (pointsspacy.x <= x_bounds[1]) & \n",
        "        (y_bounds[0] <= pointsspacy.y) &\n",
        "        (pointsspacy.y <= y_bounds[1])\n",
        "    ]\n",
        "    \n",
        "    ax = slice.plot.scatter(x='x', y='y', s=35, figsize=(10, 8))\n",
        "    for i, point in slice.iterrows():\n",
        "        ax.text(point.x + 0.005, point.y + 0.005, point.word, fontsize=11)"
      ],
      "execution_count": 26,
      "outputs": []
    },
    {
      "cell_type": "code",
      "metadata": {
        "colab": {
          "base_uri": "https://localhost:8080/",
          "height": 497
        },
        "id": "ti5FyDdIcsA-",
        "outputId": "2ce31556-9c46-4447-b3cc-6b63f8815be6"
      },
      "source": [
        "plot_region(x_bounds=(-700, 800), y_bounds=(-500, 400))"
      ],
      "execution_count": 54,
      "outputs": [
        {
          "output_type": "display_data",
          "data": {
            "image/png": "[encoded data removed]",
            "text/plain": [
              "<Figure size 720x576 with 1 Axes>"
            ]
          },
          "metadata": {
            "needs_background": "light"
          }
        }
      ]
    },
    {
      "cell_type": "markdown",
      "metadata": {
        "id": "J4vF-Yz65UlK"
      },
      "source": [
        "En esta parte utilizo una función para elegir automáticamente el número óptimo de clusters (al menos, para tener una aproximación), mediante el método del codo."
      ]
    },
    {
      "cell_type": "code",
      "metadata": {
        "colab": {
          "base_uri": "https://localhost:8080/"
        },
        "id": "ZoelieIfHvmb",
        "outputId": "b08fbb6f-cd59-46ed-9d40-dae8746e0b61"
      },
      "source": [
        "!pip install kneed            # instalamos el paquete con pip\n",
        "from kneed import KneeLocator # importamos el paquete para detectar el codo"
      ],
      "execution_count": 28,
      "outputs": [
        {
          "output_type": "stream",
          "name": "stdout",
          "text": [
            "Collecting kneed\n",
            "  Downloading kneed-0.7.0-py2.py3-none-any.whl (9.4 kB)\n",
            "Requirement already satisfied: numpy>=1.14.2 in /usr/local/lib/python3.7/dist-packages (from kneed) (1.19.5)\n",
            "Requirement already satisfied: scipy in /usr/local/lib/python3.7/dist-packages (from kneed) (1.4.1)\n",
            "Requirement already satisfied: matplotlib in /usr/local/lib/python3.7/dist-packages (from kneed) (3.2.2)\n",
            "Requirement already satisfied: pyparsing!=2.0.4,!=2.1.2,!=2.1.6,>=2.0.1 in /usr/local/lib/python3.7/dist-packages (from matplotlib->kneed) (2.4.7)\n",
            "Requirement already satisfied: kiwisolver>=1.0.1 in /usr/local/lib/python3.7/dist-packages (from matplotlib->kneed) (1.3.2)\n",
            "Requirement already satisfied: cycler>=0.10 in /usr/local/lib/python3.7/dist-packages (from matplotlib->kneed) (0.10.0)\n",
            "Requirement already satisfied: python-dateutil>=2.1 in /usr/local/lib/python3.7/dist-packages (from matplotlib->kneed) (2.8.2)\n",
            "Requirement already satisfied: six in /usr/local/lib/python3.7/dist-packages (from cycler>=0.10->matplotlib->kneed) (1.15.0)\n",
            "Installing collected packages: kneed\n",
            "Successfully installed kneed-0.7.0\n"
          ]
        }
      ]
    },
    {
      "cell_type": "code",
      "metadata": {
        "id": "wSgOURQ-HwBe"
      },
      "source": [
        "sse = [] # acá vamos a guardar el puntaje de la función objetivo\n",
        "\n",
        "for k in range(1, 40):\n",
        "  kkmeans = KMeans(n_clusters=k)\n",
        "  kkmeans.fit(red_matrix)\n",
        "  sse.append(kkmeans.inertia_)"
      ],
      "execution_count": 29,
      "outputs": []
    },
    {
      "cell_type": "code",
      "metadata": {
        "colab": {
          "base_uri": "https://localhost:8080/"
        },
        "id": "Zp0l5kabO_L-",
        "outputId": "c757bfdb-5166-443c-bea6-a85796090970"
      },
      "source": [
        "kl = KneeLocator(range(1, 40), sse, curve=\"convex\", direction=\"decreasing\")\n",
        "\n",
        "print(\"El codo está en k =\", kl.elbow)"
      ],
      "execution_count": 30,
      "outputs": [
        {
          "output_type": "stream",
          "name": "stdout",
          "text": [
            "El codo está en k = 4\n"
          ]
        }
      ]
    },
    {
      "cell_type": "markdown",
      "metadata": {
        "id": "xqwG7fU25e3e"
      },
      "source": [
        "En este último caso, el número óptimo de clusters dio 4. Armo un archivo pickle con los 4 clusters y lo cargo."
      ]
    },
    {
      "cell_type": "code",
      "metadata": {
        "id": "fNCeIaqrc7Ng"
      },
      "source": [
        "def clustering(k):\n",
        "    clusterer = kmeans.KMeansClusterer(k, cosine_distance, avoid_empty_clusters=True)\n",
        "    clusters = clusterer.cluster(red_matrix, True)\n",
        "    return clusters"
      ],
      "execution_count": 31,
      "outputs": []
    },
    {
      "cell_type": "code",
      "metadata": {
        "id": "RxVb9MN3dGvm"
      },
      "source": [
        "c_optimo = clustering(kl.elbow)"
      ],
      "execution_count": 32,
      "outputs": []
    },
    {
      "cell_type": "code",
      "metadata": {
        "id": "S4ki4R7Fdxw4"
      },
      "source": [
        "filename = \"/content/gdrive/MyDrive/Doctorado/rayuela_cluster_op.pickle\"\n",
        "fileObj = open(filename, 'wb')\n",
        "pickle.dump(c_optimo, fileObj)\n",
        "fileObj.close()"
      ],
      "execution_count": 33,
      "outputs": []
    },
    {
      "cell_type": "code",
      "metadata": {
        "id": "_ZXdB5tGeAc1"
      },
      "source": [
        "filename = \"/content/gdrive/MyDrive/Doctorado/rayuela_cluster_op.pickle\"\n",
        "with open(filename, 'rb') as f:\n",
        "    clusters = pickle.load(f)"
      ],
      "execution_count": 36,
      "outputs": []
    },
    {
      "cell_type": "code",
      "metadata": {
        "id": "iWojvZ4ZeEd2"
      },
      "source": [
        "pointscluster = pd.DataFrame(\n",
        "    [\n",
        "        (word, coords[0], coords[1], cluster)\n",
        "        for word, coords, cluster in [\n",
        "            (word, matrix_dicc2d[key_words[word]], clusters[key_words[word]])\n",
        "            for word in key_words\n",
        "        ]\n",
        "    ],\n",
        "    columns=[\"word\", \"x\", \"y\", \"c\"]\n",
        ")"
      ],
      "execution_count": 37,
      "outputs": []
    },
    {
      "cell_type": "markdown",
      "metadata": {
        "id": "rp3naz1V5sGp"
      },
      "source": [
        "Gráfico de los puntos... no sé qué tiene de diferente al gráfico anterior, pero está basado en que son 4 clusters."
      ]
    },
    {
      "cell_type": "code",
      "metadata": {
        "colab": {
          "base_uri": "https://localhost:8080/",
          "height": 712
        },
        "id": "2afSz678eJhm",
        "outputId": "8e26736e-eccd-43b8-8935-f9bdb0a931d2"
      },
      "source": [
        "pointscluster.plot.scatter(x='x', y='y', c='c', cmap='viridis', s=10, figsize=(20, 12))"
      ],
      "execution_count": 38,
      "outputs": [
        {
          "output_type": "execute_result",
          "data": {
            "text/plain": [
              "<matplotlib.axes._subplots.AxesSubplot at 0x7f0d6f689a50>"
            ]
          },
          "metadata": {},
          "execution_count": 38
        },
        {
          "output_type": "display_data",
          "data": {
            "image/png": "[encoded data removed]",
            "text/plain": [
              "<Figure size 1440x864 with 2 Axes>"
            ]
          },
          "metadata": {
            "needs_background": "light"
          }
        }
      ]
    },
    {
      "cell_type": "markdown",
      "metadata": {
        "id": "k5mbY90R51eU"
      },
      "source": [
        "Acá se puede jugar a ver qué palabras quedaron cerca de una a elección. Por ejemplo, al probar con el apellido del protagonista de la novela, Oliveira, quedan junto a él nombres de otros personajes, como Traveler, Morelli, Rocamadour y Talita, sumado a su nombre de pila, Horacio. Curiosamente, el nombre de uno de los personajes más importantes del texto, Lucía \"La Maga\" no aparece junto a él. Posiblemente sea porque Spacy entiende que Lucía es simplemente una forma del verbo \"lucir\", y que \"Maga\" lematizada es simplemente \"mago\", un sustantivo común."
      ]
    },
    {
      "cell_type": "code",
      "metadata": {
        "colab": {
          "base_uri": "https://localhost:8080/"
        },
        "id": "RKq41MHteO9-",
        "outputId": "cc2c0cbe-6270-4d1e-c026-a9f5d05b453c"
      },
      "source": [
        "# Nombres propios cerca de Oliveira y otras palabras\n",
        "printer = [word for word in key_words if clusters[key_words[word]] == clusters[key_words[\"Oliveira\"]]]\n",
        "print(printer)"
      ],
      "execution_count": 55,
      "outputs": [
        {
          "output_type": "stream",
          "name": "stdout",
          "text": [
            "['otro', 'Y', 'yo', 'él', 'ahora', 'viejo', 'todo', 'aunque', 'asir', 'cualquiera', 'tú', 'negro', 'entonces', 'mejor', 'ese', 'después', 'solo', 'Rocamadour', 'A', 'Horacio', 'Oliveira', 'Traveler', 'bueno', 'Vos', 'Morelli', 'Talita']\n"
          ]
        }
      ]
    },
    {
      "cell_type": "code",
      "metadata": {
        "colab": {
          "base_uri": "https://localhost:8080/"
        },
        "id": "smE4-8kibvDx",
        "outputId": "47e0ce5a-8fd2-4197-86c9-5cacc81ac099"
      },
      "source": [
        "# Maga\n",
        "printer = [word for word in key_words if clusters[key_words[word]] == clusters[key_words[\"Maga\"]]]\n",
        "print(printer)"
      ],
      "execution_count": 56,
      "outputs": [
        {
          "output_type": "stream",
          "name": "stdout",
          "text": [
            "['Maga', 'vez', 'luz', 'lado', 'aguar', 'callar', 'vida', 'caro', 'manera', 'do', 'casar', 'café', 'mujer', 'poco', 'manir', 'fondo', 'Qué', 'tiempo', 'momento', 'coser', 'noche', 'día', 'golpe', 'palabra', 'partir', 'hora', 'ojo', 'mundo', 'soñar', 'año', 'hombre', 'señor', 'algo', 'realidad', 'El', 'boca', 'pieza', 'amor', 'cama', 'aire', 'ventana', 'puerta', 'Los', 'tres', 'cabeza']\n"
          ]
        }
      ]
    },
    {
      "cell_type": "markdown",
      "metadata": {
        "id": "CidNdslK67q7"
      },
      "source": [
        "Probando, como hizo Dani en su notebook, si juntaba todas las stopwords, se ve que si bien algunas van juntas, están mezcladas (como también se ve más arriba) con nombres propios, como Babs, Ronald y Etienne, otros personajes de la novela."
      ]
    },
    {
      "cell_type": "code",
      "metadata": {
        "colab": {
          "base_uri": "https://localhost:8080/"
        },
        "id": "ekhCadja6ptC",
        "outputId": "7c9c8f55-e934-49de-fbd4-8049069e3649"
      },
      "source": [
        "# Stop words y otras\n",
        "printer = [word for word in key_words if clusters[key_words[word]] == clusters[key_words[\"el\"]]]\n",
        "print(printer)"
      ],
      "execution_count": 59,
      "outputs": [
        {
          "output_type": "stream",
          "name": "stdout",
          "text": [
            "['a', 'el', 'haber', 'por', 'de', 'al', 'que', 'y', 'sobrar', 'lo', 'ya', 'se', 'en', 'unir', 'ser', 'tan', 'del', 'entrar', 'sin', 'comer', 'menos', 'mismo', 'parir', 'o', 'desde', 'no', 'estar', 'con', 'hasta', 'cada', 'contra', 'pero', 'parecer', 'porque', 'siempre', 'mientras', 'deber', 'poder', 'donde', 'alguno', 'antes', 'le', 'más', 'ir', 'este', 'si', 'ahí', 'seguir', 'bajar', 'casi', 'muy', 'empezar', 'nadar', 'bien', 'ni', 'hacia', 'mucho', 'Ronald', 'Etienne', 'cómo', 'Se', 'aquí', 'Babs']\n"
          ]
        }
      ]
    },
    {
      "cell_type": "markdown",
      "metadata": {
        "id": "WsPb4pFp7G9C"
      },
      "source": [
        "# Conclusión\n",
        "Hay muchas cosas que no entiendo, pero me pasa por copiar y pegar código ajeno. Principalmente, me gustaría saber por qué quedan tan pocas palabras, siendo un texto que usa más de cien mil (repetidas y todo, pero me parece poco). Hice algunas pruebas acá y allá, pero no obtuve resultados diferentes. Probé también con el notebook de Facu Molina, pero me pareció que este trabajo estaba más completo. También probé con mis propias stopwords y trabajo manual en algunas partes, pero no mejoraron los resultados. Tengo que seguir probando. Cualquier comentario es muy bienvenido. "
      ]
    }
  ]
}